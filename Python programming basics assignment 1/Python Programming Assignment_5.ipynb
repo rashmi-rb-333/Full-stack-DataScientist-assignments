{
 "cells": [
  {
   "cell_type": "markdown",
   "metadata": {},
   "source": [
    "1. Write a Python Program to Find LCM?"
   ]
  },
  {
   "cell_type": "code",
   "execution_count": 1,
   "metadata": {},
   "outputs": [
    {
     "name": "stdout",
     "output_type": "stream",
     "text": [
      "Enter first number for finding LCM  : 15\n",
      "Enter second number for finding LCM : 50\n",
      "LCM of 15 and 50 is 150\n"
     ]
    }
   ],
   "source": [
    "a=input('Enter first number for finding LCM  : ')\n",
    "while a.isdigit() == False:\n",
    "    a=input('Enter a valid first number  : ')\n",
    "a = int(a)\n",
    "b=input('Enter second number for finding LCM : ')\n",
    "while b.isdigit() == False:\n",
    "    b=input('Enter a valid second number : ')\n",
    "b = int(b)\n",
    "temp_a,temp_b = a,b\n",
    "i = 2\n",
    "lcm = 1\n",
    "while temp_a > 1 or temp_b > 1:\n",
    "    if temp_a % i == 0 and temp_b % i == 0:\n",
    "        lcm *= i\n",
    "        temp_a /= i\n",
    "        temp_b /= i\n",
    "        i = 2\n",
    "    elif temp_a == i:\n",
    "        lcm *= i\n",
    "        temp_a /= i\n",
    "    elif temp_b == i:\n",
    "        lcm *= i\n",
    "        temp_b /= i\n",
    "    else:\n",
    "        i += 1\n",
    "print('LCM of {} and {} is {}'.format(a,b,lcm))"
   ]
  },
  {
   "cell_type": "markdown",
   "metadata": {},
   "source": [
    "2. Write a Python Program to Find HCF?"
   ]
  },
  {
   "cell_type": "code",
   "execution_count": 2,
   "metadata": {},
   "outputs": [
    {
     "name": "stdout",
     "output_type": "stream",
     "text": [
      "Enter first number for finding HCF  : 15\n",
      "Enter second number for finding HCF : 50\n",
      "HCF of 15 and 50 is 5\n"
     ]
    }
   ],
   "source": [
    "a=input('Enter first number for finding HCF  : ')\n",
    "while a.isdigit() == False:\n",
    "    a=input('Enter a valid first number  : ')\n",
    "a = int(a)\n",
    "b=input('Enter second number for finding HCF : ')\n",
    "while b.isdigit() == False:\n",
    "    b=input('Enter a valid second number : ')\n",
    "b = int(b)\n",
    "for i in range(min(a,b),0,-1):\n",
    "    if a % i == 0 and b % i == 0:\n",
    "        hcf = i\n",
    "        break\n",
    "print('HCF of {} and {} is {}'.format(a,b,hcf))"
   ]
  },
  {
   "cell_type": "markdown",
   "metadata": {},
   "source": [
    "3. Write a Python Program to Convert Decimal to Binary, Octal and Hexadecimal?"
   ]
  },
  {
   "cell_type": "code",
   "execution_count": 3,
   "metadata": {},
   "outputs": [
    {
     "name": "stdout",
     "output_type": "stream",
     "text": [
      "Enter a decimal number : 23\n",
      "Binary format          : 10111\n",
      "Octal format           : 27\n",
      "Hexadecimal format     : 17\n"
     ]
    }
   ],
   "source": [
    "a=input('Enter a decimal number : ')\n",
    "while a.isdigit() == False:\n",
    "    a=input('Enter a valid whole no : ')\n",
    "a = int(a)\n",
    "bin_num,oct_num=0,0\n",
    "hex_num=''\n",
    "hex_dict={0:'0',1:'1',2:'2',3:'3',4:'4',5:'5',6:'6',7:'7',8:'8',9:'9',10:'A',11:'B',12:'C',13:'D',14:'E',15:'F'}\n",
    "# Binary number calculation\n",
    "i = 0\n",
    "temp_a = a\n",
    "while temp_a > 0:\n",
    "    bin_num = bin_num + (temp_a%2)*(10**i)\n",
    "    temp_a = int(temp_a/2)\n",
    "    i+=1\n",
    "#Octal number calculation\n",
    "i = 0\n",
    "temp_a = a\n",
    "while temp_a > 0:\n",
    "    oct_num = oct_num + (temp_a%8)*(10**i)\n",
    "    temp_a = int(temp_a/8)\n",
    "    i+=1\n",
    "#Hexadecimal number calculation\n",
    "temp_a = a\n",
    "while temp_a > 0:\n",
    "    hex_num = str(hex_dict[temp_a%16]) + hex_num\n",
    "    temp_a = int(temp_a/16)\n",
    "print('Binary format          :',bin_num)\n",
    "print('Octal format           :',oct_num)\n",
    "print('Hexadecimal format     :',hex_num)"
   ]
  },
  {
   "cell_type": "markdown",
   "metadata": {},
   "source": [
    "4. Write a Python Program To Find ASCII value of a character?"
   ]
  },
  {
   "cell_type": "code",
   "execution_count": 4,
   "metadata": {},
   "outputs": [
    {
     "name": "stdout",
     "output_type": "stream",
     "text": [
      "Enter a charcter to find the ASCII value : abc\n",
      "Please enter only a single character : Z\n",
      "ASCII value of 'Z' is 90\n"
     ]
    }
   ],
   "source": [
    "a=input('Enter a charcter to find the ASCII value : ')\n",
    "while len(a) != 1:\n",
    "    a=input('Please enter only a single character : ')\n",
    "print(\"ASCII value of '{}' is {}\".format(a,ord(a)))"
   ]
  },
  {
   "cell_type": "markdown",
   "metadata": {},
   "source": [
    "5. Write a Python Program to Make a Simple Calculator with 4 basic mathematical operations?"
   ]
  },
  {
   "cell_type": "code",
   "execution_count": 5,
   "metadata": {},
   "outputs": [
    {
     "name": "stdout",
     "output_type": "stream",
     "text": [
      "Enter a numerical expression having 2 positive numbers with operation (+, -, * or /): 34565    / 23\n",
      "34565    / 23 = 1502.8260869565217\n"
     ]
    }
   ],
   "source": [
    "oper=['+','-','*','/']\n",
    "valid = False\n",
    "exp=input('Enter a numerical expression having 2 positive numbers with operation (+, -, * or /): ')\n",
    "# Check if the expression is valid\n",
    "while not valid:\n",
    "# Check if the operator entered is from +, -, * or / only\n",
    "    for i in oper:\n",
    "        split=exp.partition(i)\n",
    "        if split[1] != '':\n",
    "            valid = True\n",
    "            break\n",
    "# Validate if both the operands are valid numbers\n",
    "    if split[0].strip().replace('.','',1).isdigit() == False or split[2].strip().replace('.','',1).isdigit() == False:\n",
    "            valid = False\n",
    "# Ask user to enter the expression again if the operator or the operands are not valid\n",
    "    if not valid:\n",
    "        exp=input('Enter a valid numerical expression having 2 positive numbers with operation (+, -, * or /): ')\n",
    "        \n",
    "if split[1] == '+':\n",
    "    ans = float(split[0].strip()) + float(split[2].strip())\n",
    "elif split[1] == '-':\n",
    "    ans = float(split[0].strip()) - float(split[2].strip())\n",
    "elif split[1] == '*':\n",
    "    ans = float(split[0].strip()) * float(split[2].strip())\n",
    "elif split[1] == '/':\n",
    "    ans = float(split[0].strip()) / float(split[2].strip())\n",
    "print(exp+' = '+str(ans))"
   ]
  }
 ],
 "metadata": {
  "kernelspec": {
   "display_name": "Python 3",
   "language": "python",
   "name": "python3"
  },
  "language_info": {
   "codemirror_mode": {
    "name": "ipython",
    "version": 3
   },
   "file_extension": ".py",
   "mimetype": "text/x-python",
   "name": "python",
   "nbconvert_exporter": "python",
   "pygments_lexer": "ipython3",
   "version": "3.8.5"
  }
 },
 "nbformat": 4,
 "nbformat_minor": 4
}
