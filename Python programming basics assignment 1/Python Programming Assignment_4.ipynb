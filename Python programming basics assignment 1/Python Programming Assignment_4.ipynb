{
 "cells": [
  {
   "cell_type": "markdown",
   "metadata": {},
   "source": [
    "1. Write a Python Program to Find the Factorial of a Number?"
   ]
  },
  {
   "cell_type": "code",
   "execution_count": 1,
   "metadata": {},
   "outputs": [
    {
     "name": "stdout",
     "output_type": "stream",
     "text": [
      "Enter a whole number for finding factorial : 5\n",
      "Factorial of 5 is 120\n"
     ]
    }
   ],
   "source": [
    "a=input('Enter a whole number for finding factorial : ')\n",
    "while a.isdigit() == False:\n",
    "    a=input('Enter a valid whole number : ')\n",
    "fact = 1\n",
    "for i in range(int(a),0,-1):\n",
    "    fact *= i\n",
    "print('Factorial of {} is {}'.format(a,fact))"
   ]
  },
  {
   "cell_type": "markdown",
   "metadata": {},
   "source": [
    "2. Write a Python Program to Display the multiplication Table?"
   ]
  },
  {
   "cell_type": "code",
   "execution_count": 2,
   "metadata": {},
   "outputs": [
    {
     "name": "stdout",
     "output_type": "stream",
     "text": [
      "Enter a whole number for which table has to be created : 15\n",
      "15 x  1 =  15\n",
      "15 x  2 =  30\n",
      "15 x  3 =  45\n",
      "15 x  4 =  60\n",
      "15 x  5 =  75\n",
      "15 x  6 =  90\n",
      "15 x  7 = 105\n",
      "15 x  8 = 120\n",
      "15 x  9 = 135\n",
      "15 x 10 = 150\n"
     ]
    }
   ],
   "source": [
    "a=input('Enter a whole number for which table has to be created : ')\n",
    "while a.isdigit() == False:\n",
    "    a=input('Enter a valid number : ')\n",
    "for i in range(1,11,1):\n",
    "    print('{} x {} = {}'.format(a,str(i).rjust(2),str(int(a)*i).rjust(len(a)+1)))"
   ]
  },
  {
   "cell_type": "markdown",
   "metadata": {},
   "source": [
    "3. Write a Python Program to Print the Fibonacci sequence?"
   ]
  },
  {
   "cell_type": "code",
   "execution_count": 3,
   "metadata": {},
   "outputs": [
    {
     "name": "stdout",
     "output_type": "stream",
     "text": [
      "Enter the number of elements (min 2) to be shown in fibonacci sequence : 10\n",
      "Fibonacci series is 0 1 1 2 3 5 8 13 21 34 \n"
     ]
    }
   ],
   "source": [
    "a=input('Enter the number of elements (min 2) to be shown in fibonacci sequence : ')\n",
    "while (a.isdigit() == False) or (int(a) < 2):\n",
    "    a=input('Enter a valid number greater than 1 : ')\n",
    "a = int(a)\n",
    "b,c=0,1\n",
    "series=''\n",
    "for i in range(a):\n",
    "    series += str(b) + ' '\n",
    "    c = c + b\n",
    "    b = c - b\n",
    "print('Fibonacci series is',series)"
   ]
  },
  {
   "cell_type": "markdown",
   "metadata": {},
   "source": [
    "4. Write a Python Program to Check Armstrong Number?"
   ]
  },
  {
   "cell_type": "code",
   "execution_count": 4,
   "metadata": {},
   "outputs": [
    {
     "name": "stdout",
     "output_type": "stream",
     "text": [
      "Enter a number for checking if it is an Armstrong number : 370\n",
      "370 is an Armstrong number\n"
     ]
    }
   ],
   "source": [
    "a=input('Enter a number for checking if it is an Armstrong number : ')\n",
    "while a.isdigit() == False:\n",
    "    a=input('Enter a valid whole number : ')\n",
    "sum_of_cubes = 0\n",
    "for i in a:\n",
    "    sum_of_cubes += int(i)**3\n",
    "if sum_of_cubes == int(a):\n",
    "    print('{} is an Armstrong number'.format(a))\n",
    "else:\n",
    "    print('{} is not an Armstrong number'.format(a))"
   ]
  },
  {
   "cell_type": "markdown",
   "metadata": {},
   "source": [
    "5. Write a Python Program to Find Armstrong Number in an Interval?"
   ]
  },
  {
   "cell_type": "code",
   "execution_count": 5,
   "metadata": {},
   "outputs": [
    {
     "name": "stdout",
     "output_type": "stream",
     "text": [
      "Enter the starting range of the interval : 0\n",
      "Enter the ending range of the interval   : 10000\n",
      "0 is an Armstrong number\n",
      "1 is an Armstrong number\n",
      "153 is an Armstrong number\n",
      "370 is an Armstrong number\n",
      "371 is an Armstrong number\n",
      "407 is an Armstrong number\n"
     ]
    }
   ],
   "source": [
    "a=input('Enter the starting range of the interval : ')\n",
    "while a.isdigit() == False:\n",
    "    a=input('Enter a valid starting range : ')\n",
    "a = int(a)\n",
    "b=input('Enter the ending range of the interval   : ')\n",
    "while b.isdigit() == False:\n",
    "    b=input('Enter a valid ending range   : ')\n",
    "b = int(b)\n",
    "armstrong_found = False\n",
    "for i in range(a,b+1):\n",
    "    sum_of_cubes = 0\n",
    "    for j in str(i):\n",
    "        sum_of_cubes += int(j)**3\n",
    "    if sum_of_cubes == i:\n",
    "        print('{} is an Armstrong number'.format(i))\n",
    "        armstrong_found = True\n",
    "if armstrong_found == False:\n",
    "    print('There is no Armstrong number in the interval {}-{}'.format(a,b))"
   ]
  },
  {
   "cell_type": "markdown",
   "metadata": {},
   "source": [
    "6. Write a Python Program to Find the Sum of Natural Numbers?"
   ]
  },
  {
   "cell_type": "code",
   "execution_count": 6,
   "metadata": {},
   "outputs": [
    {
     "name": "stdout",
     "output_type": "stream",
     "text": [
      "Enter the natural number for finding sum : 10\n",
      "Sum of 10 natural numbers is 55\n"
     ]
    }
   ],
   "source": [
    "a=input('Enter the natural number for finding sum : ')\n",
    "while (a.isdigit() == False) or (int(a) < 1):\n",
    "    a=input('Enter a valid natural number : ')\n",
    "sum = 0\n",
    "for i in range(int(a),0,-1):\n",
    "    sum += i\n",
    "print('Sum of {} natural numbers is {}'.format(a,sum))"
   ]
  },
  {
   "cell_type": "code",
   "execution_count": null,
   "metadata": {},
   "outputs": [],
   "source": []
  }
 ],
 "metadata": {
  "kernelspec": {
   "display_name": "Python 3",
   "language": "python",
   "name": "python3"
  },
  "language_info": {
   "codemirror_mode": {
    "name": "ipython",
    "version": 3
   },
   "file_extension": ".py",
   "mimetype": "text/x-python",
   "name": "python",
   "nbconvert_exporter": "python",
   "pygments_lexer": "ipython3",
   "version": "3.8.5"
  }
 },
 "nbformat": 4,
 "nbformat_minor": 4
}
