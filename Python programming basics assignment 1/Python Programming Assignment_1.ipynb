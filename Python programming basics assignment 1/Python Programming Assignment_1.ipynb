{
 "cells": [
  {
   "cell_type": "markdown",
   "metadata": {},
   "source": [
    "1. Write a Python program to print &quot;Hello Python&quot;?"
   ]
  },
  {
   "cell_type": "code",
   "execution_count": 1,
   "metadata": {},
   "outputs": [
    {
     "name": "stdout",
     "output_type": "stream",
     "text": [
      "Hello Python\n"
     ]
    }
   ],
   "source": [
    "print(\"Hello Python\")"
   ]
  },
  {
   "cell_type": "markdown",
   "metadata": {},
   "source": [
    "2. Write a Python program to do arithmetical operations addition and division.?"
   ]
  },
  {
   "cell_type": "code",
   "execution_count": 2,
   "metadata": {},
   "outputs": [
    {
     "name": "stdout",
     "output_type": "stream",
     "text": [
      "Sum of 10 and 2 is 12\n",
      "10 divided by 2 is 5.0\n"
     ]
    }
   ],
   "source": [
    "a,b = 10,2\n",
    "print('Sum of {} and {} is {}'.format(a,b,a+b))\n",
    "print('{} divided by {} is {}'.format(a,b,a/b))"
   ]
  },
  {
   "cell_type": "markdown",
   "metadata": {},
   "source": [
    "3. Write a Python program to find the area of a triangle?"
   ]
  },
  {
   "cell_type": "code",
   "execution_count": 3,
   "metadata": {},
   "outputs": [
    {
     "name": "stdout",
     "output_type": "stream",
     "text": [
      "Enter length of first side of a triangle  :2\n",
      "Enter length of second side of a triangle :3\n",
      "Enter length of third side of a triangle  :4\n",
      "Area of triangle with sides of lengths 2, 3 and 4 is \u001b[1m\u001b[4m2.9\u001b[0m\n"
     ]
    }
   ],
   "source": [
    "BOLD = '\\033[1m'\n",
    "UNDERLINE = '\\033[4m'\n",
    "END = '\\033[0m'\n",
    "a=int(input('Enter length of first side of a triangle  :'))\n",
    "b=int(input('Enter length of second side of a triangle :'))\n",
    "c=int(input('Enter length of third side of a triangle  :'))\n",
    "# Check if sum of 2 sides is greater than the third side, only then a triangle is feasible.\n",
    "if (a+b>c) and (b+c>a) and (a+c>b):\n",
    "    p=(a+b+c)/2\n",
    "    area=round(((p*(p-a)*(p-b)*(p-c))**(1/2)),2)\n",
    "    print('Area of triangle with sides of lengths {}, {} and {} is '.format(a,b,c,area)+BOLD+UNDERLINE+str(area)+END)\n",
    "else:\n",
    "    print('Triangle cannot be created with the given sides')\n"
   ]
  },
  {
   "cell_type": "markdown",
   "metadata": {},
   "source": [
    "4. Write a Python program to swap two variables?"
   ]
  },
  {
   "cell_type": "code",
   "execution_count": 4,
   "metadata": {},
   "outputs": [
    {
     "name": "stdout",
     "output_type": "stream",
     "text": [
      "Enter value of a : 4\n",
      "Enter value of b : 9\n",
      "Value of a is 9 and b is 4\n"
     ]
    }
   ],
   "source": [
    "a = input(\"Enter value of a : \")\n",
    "b = input(\"Enter value of b : \")\n",
    "c = b\n",
    "b = a\n",
    "a = c\n",
    "print('Value of a is {} and b is {}'.format(a,b))"
   ]
  },
  {
   "cell_type": "markdown",
   "metadata": {},
   "source": [
    "5. Write a Python program to generate a random number?"
   ]
  },
  {
   "cell_type": "code",
   "execution_count": 5,
   "metadata": {},
   "outputs": [
    {
     "name": "stdout",
     "output_type": "stream",
     "text": [
      "Random number between 0 and 1000 is 628\n"
     ]
    }
   ],
   "source": [
    "import random\n",
    "print(\"Random number between 0 and 1000 is\",random.randint(0,1000))"
   ]
  }
 ],
 "metadata": {
  "kernelspec": {
   "display_name": "Python 3",
   "language": "python",
   "name": "python3"
  },
  "language_info": {
   "codemirror_mode": {
    "name": "ipython",
    "version": 3
   },
   "file_extension": ".py",
   "mimetype": "text/x-python",
   "name": "python",
   "nbconvert_exporter": "python",
   "pygments_lexer": "ipython3",
   "version": "3.8.5"
  }
 },
 "nbformat": 4,
 "nbformat_minor": 4
}
