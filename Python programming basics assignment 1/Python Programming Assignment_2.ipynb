{
 "cells": [
  {
   "cell_type": "markdown",
   "metadata": {},
   "source": [
    "1. Write a Python program to convert kilometers to miles?"
   ]
  },
  {
   "cell_type": "code",
   "execution_count": 1,
   "metadata": {},
   "outputs": [
    {
     "name": "stdout",
     "output_type": "stream",
     "text": [
      "Enter distance in Km : 25.6\n",
      "Distance in miles is 15.9105 miles\n"
     ]
    }
   ],
   "source": [
    "km = input('Enter distance in Km : ')\n",
    "# Check if a valid number has been entered after removing the decimal point and checking if the value is numeric. \n",
    "# If not then ask user to enter valid numeric data.\n",
    "while km.replace('.','',1).isdigit() == False:\n",
    "    km = input('Distance in Km should be numeric. Please enter again : ')\n",
    "km = float(km)\n",
    "miles = round(km/1.609,4)\n",
    "print('Distance in miles is {} miles'.format(miles))"
   ]
  },
  {
   "cell_type": "markdown",
   "metadata": {},
   "source": [
    "2. Write a Python program to convert Celsius to Fahrenheit?"
   ]
  },
  {
   "cell_type": "code",
   "execution_count": 2,
   "metadata": {},
   "outputs": [
    {
     "name": "stdout",
     "output_type": "stream",
     "text": [
      "Enter temperature in celsius : 0\n",
      "Temperature in fahrenheit is 32.0\n"
     ]
    }
   ],
   "source": [
    "celsius = input('Enter temperature in celsius : ')\n",
    "# Check if a valid number has been entered after removing the decimal point and checking if the value is numeric. \n",
    "# If not then ask user to enter valid numeric data.\n",
    "while celsius.replace('.','',1).isdigit() == False:\n",
    "    km = input('Temperature in celsius should be numeric. Please enter again : ')\n",
    "celsius = float(celsius)\n",
    "fahrenheit = round((celsius*9/5+32),2)\n",
    "print('Temperature in fahrenheit is {}'.format(fahrenheit))"
   ]
  },
  {
   "cell_type": "markdown",
   "metadata": {},
   "source": [
    "3. Write a Python program to display calendar?"
   ]
  },
  {
   "cell_type": "code",
   "execution_count": 3,
   "metadata": {},
   "outputs": [
    {
     "name": "stdout",
     "output_type": "stream",
     "text": [
      "Enter year in YYYY format : 1985\n",
      "Enter month in MM format : 3\n",
      "     March 1985\n",
      "Mo Tu We Th Fr Sa Su\n",
      "             1  2  3\n",
      " 4  5  6  7  8  9 10\n",
      "11 12 13 14 15 16 17\n",
      "18 19 20 21 22 23 24\n",
      "25 26 27 28 29 30 31\n",
      "\n"
     ]
    }
   ],
   "source": [
    "import calendar\n",
    "yyyy = input('Enter year in YYYY format : ')\n",
    "# Check if a valid number has been entered. If not then ask user to enter valid numeric data.\n",
    "while yyyy.isdigit() == False or int(yyyy) > 9999 or int(yyyy) < 1:\n",
    "    yyyy = input('Enter a valid year : ')\n",
    "yyyy = int(yyyy)\n",
    "mm = input('Enter month in MM format : ')\n",
    "# Check if a valid number has been entered. If not then ask user to enter valid numeric data.\n",
    "while mm.isdigit() == False or int(mm) > 12 or int(mm) < 1:\n",
    "    mm = input('Enter a valid month : ')\n",
    "mm = int(mm)\n",
    "\n",
    "print(calendar.month(yyyy,mm))"
   ]
  },
  {
   "cell_type": "markdown",
   "metadata": {},
   "source": [
    "4. Write a Python program to solve quadratic equation?"
   ]
  },
  {
   "cell_type": "code",
   "execution_count": 4,
   "metadata": {},
   "outputs": [
    {
     "name": "stdout",
     "output_type": "stream",
     "text": [
      "ax² + bx + c = 0\n",
      "Enter value of a : 1\n",
      "Enter value of b : 5\n",
      "Enter value of c : 2\n",
      "Values of x are -0.4384471871911697 and -4.561552812808831\n"
     ]
    }
   ],
   "source": [
    "print('ax\\u00b2 + bx + c = 0')\n",
    "a = input('Enter value of a : ')\n",
    "b = input('Enter value of b : ')\n",
    "c = input('Enter value of c : ')\n",
    "# Check if a valid number has been entered after removing the decimal point and checking if the value is numeric. \n",
    "# If not then ask user to enter valid numeric data.\n",
    "while a.replace('.','',1).isdigit() == False or b.replace('.','',1).isdigit() == False or c.replace('.','',1).isdigit() == False:\n",
    "    print('Values of a, b and c should be numeric.')\n",
    "    a = input('Enter value of a : ')\n",
    "    b = input('Enter value of b : ')\n",
    "    c = input('Enter value of c : ')\n",
    "a,b,c = float(a),float(b),float(c)\n",
    "temp = b*b - 4*a*c\n",
    "if temp < 0 or a == 0:\n",
    "    print('Invalid quadratic equation as b\\u00b2 < 4ac Or a is 0')\n",
    "else:\n",
    "    x,y = ((-1*b+temp**(1/2))/(2*a)),((-1*b-temp**(1/2))/(2*a))\n",
    "    print('Values of x are {} and {}'.format(x,y))"
   ]
  },
  {
   "cell_type": "markdown",
   "metadata": {},
   "source": [
    "5. Write a Python program to swap two variables without temp variable?"
   ]
  },
  {
   "cell_type": "code",
   "execution_count": 5,
   "metadata": {},
   "outputs": [
    {
     "name": "stdout",
     "output_type": "stream",
     "text": [
      "Enter the value of a : 121q32\n",
      "Enter the value of b : 21q324\n",
      "Values of a and b after swapping are \"21q324\" and \"121q32\"\n"
     ]
    }
   ],
   "source": [
    "a = input('Enter the value of a : ')\n",
    "b = input('Enter the value of b : ')\n",
    "b = a + b\n",
    "a = b[len(a):len(b)]\n",
    "b = b[0:len(b)-len(a)]\n",
    "print('Values of a and b after swapping are \"{}\" and \"{}\"'.format(a,b))"
   ]
  },
  {
   "cell_type": "code",
   "execution_count": null,
   "metadata": {},
   "outputs": [],
   "source": []
  }
 ],
 "metadata": {
  "kernelspec": {
   "display_name": "Python 3",
   "language": "python",
   "name": "python3"
  },
  "language_info": {
   "codemirror_mode": {
    "name": "ipython",
    "version": 3
   },
   "file_extension": ".py",
   "mimetype": "text/x-python",
   "name": "python",
   "nbconvert_exporter": "python",
   "pygments_lexer": "ipython3",
   "version": "3.8.5"
  }
 },
 "nbformat": 4,
 "nbformat_minor": 4
}
